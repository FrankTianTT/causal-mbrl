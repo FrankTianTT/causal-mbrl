{
 "cells": [
  {
   "cell_type": "code",
   "execution_count": 17,
   "metadata": {
    "collapsed": true
   },
   "outputs": [],
   "source": [
    "import pandas as pd\n",
    "import numpy as np\n",
    "import cmrl\n",
    "from emei.core import get_params_str\n",
    "from pathlib import Path\n",
    "import matplotlib.pyplot as plt\n",
    "import yaml"
   ]
  },
  {
   "cell_type": "code",
   "execution_count": 34,
   "outputs": [],
   "source": [
    "# 递归判断a字典中存在的值是否与b字典相等\n",
    "def dict_equal(a, b):\n",
    "    for k, v in a.items():\n",
    "        if isinstance(v, dict):\n",
    "            if not dict_equal(v, b[k]):\n",
    "                return False\n",
    "        elif v != b[k]:\n",
    "            return False\n",
    "    return True\n",
    "\n",
    "\n",
    "def get_value(d, key):\n",
    "    if isinstance(key, str):\n",
    "        if key not in d:\n",
    "            raise ValueError(f\"{key} not in dict\")\n",
    "        return d[key]\n",
    "    elif isinstance(key, tuple):\n",
    "        if key[0] not in d:\n",
    "            raise ValueError(f\"{key[0]} not in dict\")\n",
    "        return get_value(d[key[0]], key[1:])\n",
    "    else:\n",
    "        raise ValueError(\"key must be str or tuple\")"
   ],
   "metadata": {
    "collapsed": false
   }
  },
  {
   "cell_type": "code",
   "execution_count": 42,
   "outputs": [],
   "source": [
    "default_params = dict(freq_rate=1,\n",
    "                      real_time_scale=0.02,\n",
    "                      integrator=\"euler\",\n",
    "                      gravity=9.8,\n",
    "                      length=0.5,\n",
    "                      force_mag=10.0)\n",
    "default_custom_cfg = {}\n",
    "default_result_key = [\"seed\"]\n",
    "\n",
    "\n",
    "def load_log(exp_name=\"default\",\n",
    "             task_name=\"ContinuousCartPoleSwingUp-v0\",\n",
    "             params=default_params,\n",
    "             dataset=\"SAC-expert-replay\",\n",
    "             custom_cfg=default_custom_cfg,\n",
    "             log_file=\"rollout.csv\",\n",
    "             log_key=\"ep_rew_mean\",\n",
    "             result_key=default_result_key):\n",
    "    path = Path(\"./exp\") / exp_name / task_name / get_params_str(params) / dataset\n",
    "\n",
    "    result_dict = {}\n",
    "    for time_dir in path.glob(r\"*\"):\n",
    "        if not time_dir.is_dir() or not (time_dir / \".hydra\").exists():\n",
    "            continue\n",
    "\n",
    "        config_path = time_dir / \".hydra\" / \"config.yaml\"\n",
    "        with open(config_path, \"r\") as f:\n",
    "            cfg = yaml.load(f, Loader=yaml.FullLoader)\n",
    "\n",
    "        if not dict_equal(custom_cfg, cfg):\n",
    "            continue\n",
    "\n",
    "        log_path = time_dir / \"log\" / log_file\n",
    "        if not log_path.exists():\n",
    "            continue\n",
    "\n",
    "        key_name = tuple([str(get_value(cfg, k)) for k in result_key])\n",
    "        df = pd.read_csv(log_path)\n",
    "        result_dict[key_name] = df[log_key].to_numpy()\n",
    "    return result_dict"
   ],
   "metadata": {
    "collapsed": false
   }
  },
  {
   "cell_type": "code",
   "execution_count": 54,
   "outputs": [
    {
     "data": {
      "text/plain": "<matplotlib.collections.PolyCollection at 0x113741610>"
     },
     "execution_count": 54,
     "metadata": {},
     "output_type": "execute_result"
    },
    {
     "data": {
      "text/plain": "<Figure size 640x480 with 1 Axes>",
      "image/png": "[encoded data removed]"
     },
     "metadata": {},
     "output_type": "display_data"
    }
   ],
   "source": [
    "re = load_log(log_file=\"rollout.csv\", log_key=\"ep_rew_mean\")\n",
    "mean = np.stack(list(re.values())).mean(axis=0)\n",
    "std = np.stack(list(re.values())).std(axis=0)\n",
    "\n",
    "plt.plot(mean)\n",
    "plt.fill_between(np.arange(len(mean)), mean - std, mean + std, alpha=0.5)"
   ],
   "metadata": {
    "collapsed": false
   }
  },
  {
   "cell_type": "code",
   "execution_count": null,
   "outputs": [],
   "source": [],
   "metadata": {
    "collapsed": false
   }
  }
 ],
 "metadata": {
  "kernelspec": {
   "display_name": "Python 3",
   "language": "python",
   "name": "python3"
  },
  "language_info": {
   "codemirror_mode": {
    "name": "ipython",
    "version": 2
   },
   "file_extension": ".py",
   "mimetype": "text/x-python",
   "name": "python",
   "nbconvert_exporter": "python",
   "pygments_lexer": "ipython2",
   "version": "2.7.6"
  }
 },
 "nbformat": 4,
 "nbformat_minor": 0
}
