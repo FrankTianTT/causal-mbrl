{
 "cells": [
  {
   "cell_type": "code",
   "execution_count": 67,
   "metadata": {
    "collapsed": true
   },
   "outputs": [],
   "source": [
    "import pandas as pd\n",
    "import numpy as np\n",
    "import cmrl\n",
    "from emei.core import get_params_str\n",
    "from pathlib import Path\n",
    "import matplotlib.pyplot as plt\n",
    "import yaml\n",
    "from collections import defaultdict"
   ]
  },
  {
   "cell_type": "code",
   "execution_count": 109,
   "outputs": [],
   "source": [
    "# 递归判断a字典中存在的值是否与b字典相等\n",
    "def dict_equal(a, b):\n",
    "    for k, v in a.items():\n",
    "        if isinstance(v, dict):\n",
    "            if not dict_equal(v, b[k]):\n",
    "                return False\n",
    "        elif v != b[k]:\n",
    "            return False\n",
    "    return True\n",
    "\n",
    "\n",
    "def get_value(d, key):\n",
    "    if isinstance(key, str):\n",
    "        if key not in d:\n",
    "            raise ValueError(f\"{key} not in dict\")\n",
    "        return d[key]\n",
    "    elif isinstance(key, tuple):\n",
    "        if key[0] not in d:\n",
    "            raise ValueError(f\"{key[0]} not in dict\")\n",
    "        if len(key) <= 1:\n",
    "            raise ValueError(\"length of tuple-key must be 2\")\n",
    "        return get_value(d[key[0]], key[1])\n",
    "    else:\n",
    "        raise ValueError(\"key must be str or tuple\")\n",
    "\n",
    "\n",
    "# 返回多个字典中不同的value对应的key, 通过递归的方法\n",
    "def get_diff_key(dicts):\n",
    "    if len(dicts) <= 1:\n",
    "        return []\n",
    "    keys = set(dicts[0].keys())\n",
    "    for d in dicts[1:]:\n",
    "        keys = keys & set(d.keys())\n",
    "\n",
    "    diff_keys = []\n",
    "    for k in keys:\n",
    "        if isinstance(dicts[0][k], dict):\n",
    "            diff_keys += [(k, dk) for dk in get_diff_key([d[k] for d in dicts])]\n",
    "        elif not all([dicts[0][k] == d[k] for d in dicts[1:]]):\n",
    "            diff_keys.append(k)\n",
    "    return diff_keys"
   ],
   "metadata": {
    "collapsed": false
   }
  },
  {
   "cell_type": "code",
   "execution_count": 125,
   "outputs": [],
   "source": [
    "default_params = dict(freq_rate=1,\n",
    "                      real_time_scale=0.02,\n",
    "                      integrator=\"euler\",\n",
    "                      gravity=9.8,\n",
    "                      length=0.5,\n",
    "                      force_mag=10.0)\n",
    "default_custom_cfg = {}\n",
    "default_result_key = [\"seed\"]\n",
    "\n",
    "\n",
    "def load_log(exp_name=\"default\",\n",
    "             task_name=\"ContinuousCartPoleSwingUp-v0\",\n",
    "             params=default_params,\n",
    "             dataset=\"SAC-expert-replay\",\n",
    "             custom_cfg=default_custom_cfg,\n",
    "             log_file=\"rollout.csv\",\n",
    "             log_key=\"ep_rew_mean\"):\n",
    "    path = Path(\"./exp\") / exp_name / task_name / get_params_str(params) / dataset\n",
    "\n",
    "    result_list = []\n",
    "    cfg_list = []\n",
    "    for time_dir in path.glob(r\"*\"):\n",
    "        if not time_dir.is_dir() or not (time_dir / \".hydra\").exists():\n",
    "            continue\n",
    "\n",
    "        config_path = time_dir / \".hydra\" / \"config.yaml\"\n",
    "        with open(config_path, \"r\") as f:\n",
    "            cfg = yaml.load(f, Loader=yaml.FullLoader)\n",
    "\n",
    "        if not dict_equal(custom_cfg, cfg):\n",
    "            continue\n",
    "\n",
    "        log_path = time_dir / \"log\" / log_file\n",
    "        if not log_path.exists():\n",
    "            continue\n",
    "\n",
    "        df = pd.read_csv(log_path)\n",
    "        result_list.append(df[log_key].to_numpy())\n",
    "        cfg_list.append(cfg)\n",
    "\n",
    "    diff_key = get_diff_key(cfg_list)\n",
    "    result_dict = {}\n",
    "    for i, cfg in enumerate(cfg_list):\n",
    "        result_dict[tuple([get_value(cfg, key) for key in diff_key])] = result_list[i]\n",
    "    return diff_key, result_dict"
   ],
   "metadata": {
    "collapsed": false
   }
  },
  {
   "cell_type": "code",
   "execution_count": 136,
   "outputs": [
    {
     "data": {
      "text/plain": "<Figure size 640x480 with 1 Axes>",
      "image/png": "[encoded data removed]"
     },
     "metadata": {},
     "output_type": "display_data"
    }
   ],
   "source": [
    "result_key = []\n",
    "diff_key, result_dict = load_log(\n",
    "    log_file=\"rollout.csv\",\n",
    "    log_key=\"ep_rew_mean\",\n",
    ")\n",
    "\n",
    "idx = diff_key.index(('transition', 'oracle'))\n",
    "for name in set([key[idx] for key in result_dict.keys()]):\n",
    "    values = np.stack([value for key, value in result_dict.items() if key[idx] == name])\n",
    "    plt.plot(values.mean(axis=0), label=name)\n",
    "    plt.fill_between(np.arange(len(values.mean(axis=0))), values.mean(axis=0) - values.std(axis=0),\n",
    "                     values.mean(axis=0) + values.std(axis=0), alpha=0.5)\n",
    "    plt.legend()\n",
    "\n",
    "# for key in result_key:\n",
    "#\n",
    "# print(re)\n",
    "#\n",
    "# mean = np.stack(list(re.values())).mean(axis=0)\n",
    "# std = np.stack(list(re.values())).std(axis=0)\n",
    "#\n",
    "# plt.plot(mean)\n",
    "# plt.fill_between(np.arange(len(mean)), mean - std, mean + std, alpha=0.5)"
   ],
   "metadata": {
    "collapsed": false
   }
  },
  {
   "cell_type": "code",
   "execution_count": null,
   "outputs": [],
   "source": [],
   "metadata": {
    "collapsed": false
   }
  }
 ],
 "metadata": {
  "kernelspec": {
   "display_name": "Python 3",
   "language": "python",
   "name": "python3"
  },
  "language_info": {
   "codemirror_mode": {
    "name": "ipython",
    "version": 2
   },
   "file_extension": ".py",
   "mimetype": "text/x-python",
   "name": "python",
   "nbconvert_exporter": "python",
   "pygments_lexer": "ipython2",
   "version": "2.7.6"
  }
 },
 "nbformat": 4,
 "nbformat_minor": 0
}
